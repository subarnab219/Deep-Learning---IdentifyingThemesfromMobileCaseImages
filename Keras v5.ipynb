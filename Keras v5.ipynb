{
 "cells": [
  {
   "cell_type": "code",
   "execution_count": 1,
   "metadata": {
    "scrolled": true
   },
   "outputs": [
    {
     "name": "stderr",
     "output_type": "stream",
     "text": [
      "Using Theano backend.\n",
      "C:\\Users\\sran12\\AppData\\Local\\Continuum\\Anaconda2\\lib\\site-packages\\sklearn\\cross_validation.py:44: DeprecationWarning: This module was deprecated in version 0.18 in favor of the model_selection module into which all the refactored classes and functions are moved. Also note that the interface of the new CV iterators are different from that of this module. This module will be removed in 0.20.\n",
      "  \"This module will be removed in 0.20.\", DeprecationWarning)\n"
     ]
    }
   ],
   "source": [
    "import numpy as np\n",
    "np.random.seed(2016)\n",
    "\n",
    "import os\n",
    "import glob\n",
    "import cv2\n",
    "import datetime\n",
    "import pandas as pd\n",
    "import time\n",
    "import warnings\n",
    "%matplotlib inline \n",
    "warnings.filterwarnings(\"ignore\")\n",
    "\n",
    "from keras.layers.core import Dense, Dropout, Flatten\n",
    "from keras.layers.convolutional import Convolution2D, MaxPooling2D, ZeroPadding2D\n",
    "from keras.models import Sequential\n",
    "from keras.layers import Dense\n",
    "from keras.utils import np_utils\n",
    "from keras.models import Sequential\n",
    "from keras.layers import Dense, Dropout, Activation, Flatten\n",
    "from keras.layers import Conv2D, MaxPooling2D\n",
    "from keras.callbacks import EarlyStopping\n",
    "from sklearn.metrics import log_loss\n",
    "from sklearn.cross_validation import KFold\n",
    "from keras.models import Sequential"
   ]
  },
  {
   "cell_type": "code",
   "execution_count": 2,
   "metadata": {
    "collapsed": true,
    "scrolled": true
   },
   "outputs": [],
   "source": [
    "def get_im_cv2(path):\n",
    "    img = cv2.imread(path)\n",
    "    height, width, channels = img.shape\n",
    "    img = cv2.resize(img, (64, 64))\n",
    "    return img"
   ]
  },
  {
   "cell_type": "code",
   "execution_count": 3,
   "metadata": {
    "collapsed": true,
    "scrolled": true
   },
   "outputs": [],
   "source": [
    "def load_train():\n",
    "    X_train = []\n",
    "    X_train_id = []\n",
    "    y_train = []\n",
    "    start_time = time.time()\n",
    "\n",
    "    print('Read train images')\n",
    "    folders = ['Automobile',\n",
    "               'Comics_and_Cartoons',\n",
    "               'Famous_Personalities',\n",
    "               'Festivals_and_Occasions',\n",
    "               'Graffiti_and_Illustrations',\n",
    "               'Movies_and_TV_shows',\n",
    "               'Music',\n",
    "               'Nature',\n",
    "               'No_Theme',\n",
    "               'Patterns_and_Ethnic',\n",
    "               'Signs_and_Symbols',\n",
    "               'Spiritual',\n",
    "               'Sports',\n",
    "               'Superheroes',\n",
    "               'Typography',\n",
    "               'Vintage'\n",
    "              ]\n",
    "    for fld in folders:\n",
    "        index = folders.index(fld)\n",
    "        print('Load folder {} (Index: {})'.format(fld, index))\n",
    "        path = os.path.join('D:\\Misc\\CrowdAnalytix\\Identifying Themes from Mobile Case Images\\Data Raw\\Train', fld, '*.jpg')\n",
    "        files = glob.glob(path)\n",
    "        for i in range(len(files)):\n",
    "            flbase = os.path.basename(files[i])\n",
    "            img = get_im_cv2(files[i])\n",
    "            X_train.append(img)\n",
    "            X_train_id.append(flbase)\n",
    "            y_train.append(index) \n",
    "    print len(X_train)\n",
    "    print('Read train data time: {} seconds'.format(round(time.time() - start_time, 2)))\n",
    "    return X_train, y_train, X_train_id"
   ]
  },
  {
   "cell_type": "code",
   "execution_count": 4,
   "metadata": {
    "collapsed": true,
    "scrolled": true
   },
   "outputs": [],
   "source": [
    "def load_test():\n",
    "    path = os.path.join('D:\\Misc\\CrowdAnalytix\\Identifying Themes from Mobile Case Images\\Data Raw\\Test', '*.jpg')\n",
    "    files = sorted(glob.glob(path))\n",
    "\n",
    "    X_test = []\n",
    "    X_test_id = []\n",
    "    for fl in files:\n",
    "        flbase = os.path.basename(fl)\n",
    "        img = get_im_cv2(fl)\n",
    "        X_test.append(img)\n",
    "        X_test_id.append(flbase)\n",
    "\n",
    "    return X_test, X_test_id"
   ]
  },
  {
   "cell_type": "code",
   "execution_count": 5,
   "metadata": {
    "scrolled": true
   },
   "outputs": [
    {
     "name": "stdout",
     "output_type": "stream",
     "text": [
      "Read train images\n",
      "Load folder Automobile (Index: 0)\n",
      "Load folder Comics_and_Cartoons (Index: 1)\n",
      "Load folder Famous_Personalities (Index: 2)\n",
      "Load folder Festivals_and_Occasions (Index: 3)\n",
      "Load folder Graffiti_and_Illustrations (Index: 4)\n",
      "Load folder Movies_and_TV_shows (Index: 5)\n",
      "Load folder Music (Index: 6)\n",
      "Load folder Nature (Index: 7)\n",
      "Load folder No_Theme (Index: 8)\n",
      "Load folder Patterns_and_Ethnic (Index: 9)\n",
      "Load folder Signs_and_Symbols (Index: 10)\n",
      "Load folder Spiritual (Index: 11)\n",
      "Load folder Sports (Index: 12)\n",
      "Load folder Superheroes (Index: 13)\n",
      "Load folder Typography (Index: 14)\n",
      "Load folder Vintage (Index: 15)\n",
      "4592\n",
      "Read train data time: 356.01 seconds\n"
     ]
    }
   ],
   "source": [
    "Xtrall, Ytrall, Itrall = load_train()\n",
    "X_test, X_test_id = load_test()"
   ]
  },
  {
   "cell_type": "code",
   "execution_count": 6,
   "metadata": {
    "collapsed": true,
    "scrolled": true
   },
   "outputs": [],
   "source": [
    "# flatten out all images to be one-dimensional\n",
    "Xtrall = np.array(Xtrall, dtype=np.uint8)\n",
    "Ytrall = np.array(Ytrall, dtype=np.uint8)\n",
    "\n",
    "Xtrall = Xtrall.astype('float32')\n",
    "Xtrall = Xtrall / 255\n",
    "Xtrall = Xtrall.transpose((0, 3, 1, 2))\n",
    "\n",
    "# msk = np.random.rand(len(Xtrall)) < 0.8\n",
    "# Xval = Xtrall[~msk]\n",
    "# Yval = Ytrall[~msk]\n",
    "# Ytr = Ytrall[msk]\n",
    "# Xtr = Xtrall[msk]\n",
    "\n",
    "X_test = np.array(X_test, dtype=np.uint8)\n",
    "\n",
    "X_test = X_test.astype('float32')\n",
    "X_test = X_test / 255\n",
    "X_test = X_test.transpose((0, 3, 1, 2))\n",
    "\n",
    "Ytrall = np_utils.to_categorical(Ytrall, 16)"
   ]
  },
  {
   "cell_type": "code",
   "execution_count": 7,
   "metadata": {
    "collapsed": true,
    "scrolled": true
   },
   "outputs": [],
   "source": [
    "batch_size=64\n",
    "nb_classes=len(Ytrall)\n",
    "nb_epoch=30\n",
    "nb_filters=32\n",
    "nb_pool=1\n",
    "nb_conv=3"
   ]
  },
  {
   "cell_type": "code",
   "execution_count": 8,
   "metadata": {
    "collapsed": true,
    "scrolled": true
   },
   "outputs": [],
   "source": [
    "model= Sequential()\n",
    "model.add(ZeroPadding2D((1, 1), input_shape=Xtrall.shape[1:]))\n",
    "model.add(Convolution2D(nb_filters,nb_conv,nb_conv, subsample=(1, 1),activation='relu'))\n",
    "model.add(Activation('relu'))\n",
    "model.add(Convolution2D(nb_filters,nb_conv,nb_conv, subsample=(1, 1),activation='relu'))\n",
    "model.add(Activation('relu'))\n",
    "model.add(MaxPooling2D(pool_size=(nb_pool,nb_pool)))\n",
    "model.add(Convolution2D(nb_filters/2,nb_conv,nb_conv, subsample=(1, 1),activation='relu'))\n",
    "model.add(Activation('relu'))\n",
    "model.add(Dropout(0.3));\n",
    "model.add(Flatten());\n",
    "model.add(Dense(64));\n",
    "model.add(Dropout(0.3));\n",
    "model.add(Dense(32));\n",
    "model.add(Dropout(0.1));\n",
    "model.add(Dense(16));\n",
    "model.add(Activation('softmax'));\n",
    "model.compile(loss='categorical_crossentropy',optimizer='adadelta',metrics=['accuracy'])\n"
   ]
  },
  {
   "cell_type": "code",
   "execution_count": 9,
   "metadata": {
    "scrolled": false
   },
   "outputs": [
    {
     "name": "stdout",
     "output_type": "stream",
     "text": [
      "Start KFold number 1 from 10\n",
      "('Split train: ', 4132, 4132)\n",
      "('Split valid: ', 460, 460)\n",
      "Train on 4132 samples, validate on 460 samples\n",
      "Epoch 1/30\n",
      "78s - loss: 2.6633 - acc: 0.4153 - val_loss: 1.6370 - val_acc: 0.5500\n",
      "Epoch 2/30\n",
      "72s - loss: 1.5553 - acc: 0.5641 - val_loss: 1.5237 - val_acc: 0.5739\n",
      "Epoch 3/30\n",
      "73s - loss: 1.2681 - acc: 0.6329 - val_loss: 1.7440 - val_acc: 0.5239\n",
      "Epoch 4/30\n",
      "73s - loss: 1.0786 - acc: 0.6827 - val_loss: 1.5564 - val_acc: 0.5391\n",
      "Epoch 5/30\n",
      "74s - loss: 0.8692 - acc: 0.7452 - val_loss: 1.3958 - val_acc: 0.6152\n",
      "Epoch 6/30\n",
      "74s - loss: 0.7116 - acc: 0.7953 - val_loss: 1.4735 - val_acc: 0.6000\n",
      "Epoch 7/30\n",
      "73s - loss: 0.5603 - acc: 0.8325 - val_loss: 1.4129 - val_acc: 0.6543\n",
      "Epoch 8/30\n",
      "73s - loss: 0.4786 - acc: 0.8601 - val_loss: 1.4800 - val_acc: 0.6261\n",
      "Epoch 9/30\n",
      "73s - loss: 0.4043 - acc: 0.8841 - val_loss: 1.4600 - val_acc: 0.6391\n",
      "('Score log_loss: ', 1.4600492001995429)\n",
      "Start KFold number 2 from 10\n",
      "('Split train: ', 4132, 4132)\n",
      "('Split valid: ', 460, 460)\n",
      "Train on 4132 samples, validate on 460 samples\n",
      "Epoch 1/30\n",
      "73s - loss: 0.4932 - acc: 0.8679 - val_loss: 0.2948 - val_acc: 0.9391\n",
      "Epoch 2/30\n",
      "76s - loss: 0.3925 - acc: 0.8896 - val_loss: 0.3433 - val_acc: 0.9196\n",
      "Epoch 3/30\n",
      "77s - loss: 0.3396 - acc: 0.9039 - val_loss: 0.3297 - val_acc: 0.9239\n",
      "Epoch 4/30\n",
      "74s - loss: 0.3151 - acc: 0.9114 - val_loss: 0.3467 - val_acc: 0.9087\n",
      "Epoch 5/30\n",
      "75s - loss: 0.2622 - acc: 0.9252 - val_loss: 0.4229 - val_acc: 0.8913\n",
      "('Score log_loss: ', 0.42292013086032526)\n",
      "Start KFold number 3 from 10\n",
      "('Split train: ', 4133, 4133)\n",
      "('Split valid: ', 459, 459)\n",
      "Train on 4133 samples, validate on 459 samples\n",
      "Epoch 1/30\n",
      "75s - loss: 0.2734 - acc: 0.9248 - val_loss: 0.1626 - val_acc: 0.9564\n",
      "Epoch 2/30\n",
      "76s - loss: 0.2506 - acc: 0.9291 - val_loss: 0.2255 - val_acc: 0.9259\n",
      "Epoch 3/30\n",
      "76s - loss: 0.2280 - acc: 0.9388 - val_loss: 0.3425 - val_acc: 0.9020\n",
      "Epoch 4/30\n",
      "85s - loss: 0.2166 - acc: 0.9427 - val_loss: 0.2816 - val_acc: 0.9150\n",
      "Epoch 5/30\n",
      "76s - loss: 0.2028 - acc: 0.9410 - val_loss: 0.3303 - val_acc: 0.9107\n",
      "('Score log_loss: ', 0.34040446631730076)\n",
      "Start KFold number 4 from 10\n",
      "('Split train: ', 4133, 4133)\n",
      "('Split valid: ', 459, 459)\n",
      "Train on 4133 samples, validate on 459 samples\n",
      "Epoch 1/30\n",
      "76s - loss: 0.2296 - acc: 0.9398 - val_loss: 0.1953 - val_acc: 0.9390\n",
      "Epoch 2/30\n",
      "77s - loss: 0.1932 - acc: 0.9446 - val_loss: 0.1723 - val_acc: 0.9390\n",
      "Epoch 3/30\n",
      "75s - loss: 0.1866 - acc: 0.9470 - val_loss: 0.1855 - val_acc: 0.9412\n",
      "Epoch 4/30\n",
      "77s - loss: 0.1875 - acc: 0.9451 - val_loss: 0.2068 - val_acc: 0.9412\n",
      "Epoch 5/30\n",
      "75s - loss: 0.1760 - acc: 0.9516 - val_loss: 0.2537 - val_acc: 0.9346\n",
      "Epoch 6/30\n",
      "76s - loss: 0.1762 - acc: 0.9511 - val_loss: 0.2640 - val_acc: 0.9325\n",
      "('Score log_loss: ', 0.26397340413354309)\n",
      "Start KFold number 5 from 10\n",
      "('Split train: ', 4133, 4133)\n",
      "('Split valid: ', 459, 459)\n",
      "Train on 4133 samples, validate on 459 samples\n",
      "Epoch 1/30\n",
      "76s - loss: 0.1877 - acc: 0.9516 - val_loss: 0.1653 - val_acc: 0.9346\n",
      "Epoch 2/30\n",
      "76s - loss: 0.1635 - acc: 0.9552 - val_loss: 0.2259 - val_acc: 0.9150\n",
      "Epoch 3/30\n",
      "74s - loss: 0.1622 - acc: 0.9564 - val_loss: 0.2382 - val_acc: 0.9172\n",
      "Epoch 4/30\n",
      "80s - loss: 0.1609 - acc: 0.9564 - val_loss: 0.2401 - val_acc: 0.9150\n",
      "Epoch 5/30\n",
      "74s - loss: 0.1658 - acc: 0.9572 - val_loss: 0.2612 - val_acc: 0.9129\n",
      "('Score log_loss: ', 0.26116031264687722)\n",
      "Start KFold number 6 from 10\n",
      "('Split train: ', 4133, 4133)\n",
      "('Split valid: ', 459, 459)\n",
      "Train on 4133 samples, validate on 459 samples\n",
      "Epoch 1/30\n",
      "75s - loss: 0.1807 - acc: 0.9506 - val_loss: 0.1659 - val_acc: 0.9499\n",
      "Epoch 2/30\n",
      "75s - loss: 0.1642 - acc: 0.9531 - val_loss: 0.1780 - val_acc: 0.9477\n",
      "Epoch 3/30\n",
      "75s - loss: 0.1461 - acc: 0.9550 - val_loss: 0.2043 - val_acc: 0.9412\n",
      "Epoch 4/30\n",
      "78s - loss: 0.1647 - acc: 0.9514 - val_loss: 0.2153 - val_acc: 0.9412\n",
      "Epoch 5/30\n",
      "84s - loss: 0.1573 - acc: 0.9523 - val_loss: 0.2303 - val_acc: 0.9412\n",
      "('Score log_loss: ', 0.23031603525970307)\n",
      "Start KFold number 7 from 10\n",
      "('Split train: ', 4133, 4133)\n",
      "('Split valid: ', 459, 459)\n",
      "Train on 4133 samples, validate on 459 samples\n",
      "Epoch 1/30\n",
      "117s - loss: 0.1717 - acc: 0.9514 - val_loss: 0.1623 - val_acc: 0.9368\n",
      "Epoch 2/30\n",
      "77s - loss: 0.1475 - acc: 0.9564 - val_loss: 0.1831 - val_acc: 0.9499\n",
      "Epoch 3/30\n",
      "84s - loss: 0.1464 - acc: 0.9562 - val_loss: 0.2256 - val_acc: 0.9303\n",
      "Epoch 4/30\n",
      "84s - loss: 0.1518 - acc: 0.9567 - val_loss: 0.2410 - val_acc: 0.9325\n",
      "Epoch 5/30\n",
      "86s - loss: 0.1508 - acc: 0.9584 - val_loss: 0.2581 - val_acc: 0.9346\n",
      "('Score log_loss: ', 0.25810740910937258)\n",
      "Start KFold number 8 from 10\n",
      "('Split train: ', 4133, 4133)\n",
      "('Split valid: ', 459, 459)\n",
      "Train on 4133 samples, validate on 459 samples\n",
      "Epoch 1/30\n",
      "81s - loss: 0.1440 - acc: 0.9555 - val_loss: 0.1663 - val_acc: 0.9542\n",
      "Epoch 2/30\n",
      "84s - loss: 0.1460 - acc: 0.9560 - val_loss: 0.2641 - val_acc: 0.9412\n",
      "Epoch 3/30\n",
      "76s - loss: 0.1363 - acc: 0.9581 - val_loss: 0.2402 - val_acc: 0.9434\n",
      "Epoch 4/30\n",
      "83s - loss: 0.1375 - acc: 0.9555 - val_loss: 0.2592 - val_acc: 0.9390\n",
      "Epoch 5/30\n",
      "82s - loss: 0.1251 - acc: 0.9594 - val_loss: 0.2922 - val_acc: 0.9346\n",
      "('Score log_loss: ', 0.29220106391303829)\n",
      "Start KFold number 9 from 10\n",
      "('Split train: ', 4133, 4133)\n",
      "('Split valid: ', 459, 459)\n",
      "Train on 4133 samples, validate on 459 samples\n",
      "Epoch 1/30\n",
      "75s - loss: 0.1583 - acc: 0.9540 - val_loss: 0.1058 - val_acc: 0.9608\n",
      "Epoch 2/30\n",
      "75s - loss: 0.1450 - acc: 0.9540 - val_loss: 0.1184 - val_acc: 0.9586\n",
      "Epoch 3/30\n",
      "76s - loss: 0.1474 - acc: 0.9548 - val_loss: 0.1252 - val_acc: 0.9586\n",
      "Epoch 4/30\n",
      "75s - loss: 0.1415 - acc: 0.9540 - val_loss: 0.1452 - val_acc: 0.9586\n",
      "Epoch 5/30\n",
      "80s - loss: 0.1367 - acc: 0.9591 - val_loss: 0.1725 - val_acc: 0.9521\n",
      "('Score log_loss: ', 0.17246875289478697)\n",
      "Start KFold number 10 from 10\n",
      "('Split train: ', 4133, 4133)\n",
      "('Split valid: ', 459, 459)\n",
      "Train on 4133 samples, validate on 459 samples\n",
      "Epoch 1/30\n",
      "78s - loss: 0.1475 - acc: 0.9543 - val_loss: 0.1270 - val_acc: 0.9390\n",
      "Epoch 2/30\n",
      "81s - loss: 0.1338 - acc: 0.9596 - val_loss: 0.1588 - val_acc: 0.9390\n",
      "Epoch 3/30\n",
      "76s - loss: 0.1435 - acc: 0.9540 - val_loss: 0.2111 - val_acc: 0.9281\n",
      "Epoch 4/30\n",
      "75s - loss: 0.1358 - acc: 0.9608 - val_loss: 0.2122 - val_acc: 0.9325\n",
      "Epoch 5/30\n",
      "75s - loss: 0.1325 - acc: 0.9606 - val_loss: 0.2231 - val_acc: 0.9346\n",
      "('Score log_loss: ', 0.22306144223670618)\n"
     ]
    }
   ],
   "source": [
    "nfolds = 10\n",
    "yfull_train = dict()\n",
    "kf = KFold(len(Itrall), n_folds=10, shuffle=True, random_state=None)\n",
    "num_fold = 0\n",
    "sum_score = 0\n",
    "models = []\n",
    "\n",
    "for mtr,mval in kf:\n",
    "    Xtr = Xtrall[mtr]\n",
    "    Ytr = Ytrall[mtr]\n",
    "    Xval = Xtrall[mval]\n",
    "    Yval = Ytrall[mval]\n",
    "    \n",
    "    num_fold += 1\n",
    "    \n",
    "    print('Start KFold number {} from {}'.format(num_fold, nfolds))\n",
    "    print('Split train: ', len(Xtr), len(Ytr))\n",
    "    print('Split valid: ', len(Xval), len(Yval))\n",
    "    \n",
    "    callbacks = [\n",
    "            EarlyStopping(monitor='val_loss', patience=3, verbose=0),\n",
    "        ]\n",
    "    model.fit(Xtr,Ytr, batch_size=batch_size, nb_epoch=nb_epoch,\n",
    "              shuffle=True, verbose=2, validation_data=(Xval, Yval),\n",
    "              callbacks=callbacks)\n",
    "    predictions_valid = model.predict(Xval.astype('float32'), batch_size=batch_size, verbose=2)\n",
    "    score = log_loss(Yval, predictions_valid)\n",
    "    print('Score log_loss: ', score)\n",
    "    sum_score += score*len(mval)\n",
    "    \n",
    "    # Store valid predictions\n",
    "    for i in range(len(mval)):\n",
    "        yfull_train[mval[i]] = predictions_valid[i]\n",
    "\n",
    "    models.append(model)\n",
    "\n"
   ]
  },
  {
   "cell_type": "code",
   "execution_count": 10,
   "metadata": {
    "scrolled": true
   },
   "outputs": [
    {
     "name": "stdout",
     "output_type": "stream",
     "text": [
      "('Log_loss train independent avg: ', 0.39270534128837953)\n"
     ]
    }
   ],
   "source": [
    "score = sum_score/len(Xtrall)\n",
    "print(\"Log_loss train independent avg: \", score)\n",
    "\n",
    "info_string = 'loss_' + str(score) + '_folds_' + str(10) + '_ep_' + str(nb_epoch)"
   ]
  },
  {
   "cell_type": "code",
   "execution_count": 16,
   "metadata": {
    "scrolled": true
   },
   "outputs": [
    {
     "name": "stdout",
     "output_type": "stream",
     "text": [
      "Start KFold number 1 from 10\n",
      "Start KFold number 2 from 10\n",
      "Start KFold number 3 from 10\n",
      "Start KFold number 4 from 10\n",
      "Start KFold number 5 from 10\n",
      "Start KFold number 6 from 10\n",
      "Start KFold number 7 from 10\n",
      "Start KFold number 8 from 10\n"
     ]
    }
   ],
   "source": [
    "batch_size = 32\n",
    "num_fold = 0\n",
    "yfull_test = []\n",
    "test_id = []\n",
    "nfolds = len(models)\n",
    "\n",
    "for i in range(nfolds):\n",
    "    model = models[i]\n",
    "    num_fold += 1\n",
    "    print('Start KFold number {} from {}'.format(num_fold, nfolds))\n",
    "    test_prediction = model.predict(X_test, batch_size=batch_size, verbose=2)\n",
    "    yfull_test.append(test_prediction)\n",
    "    \n"
   ]
  },
  {
   "cell_type": "code",
   "execution_count": 28,
   "metadata": {
    "collapsed": true,
    "scrolled": true
   },
   "outputs": [],
   "source": [
    "a = np.array(yfull_test[1])\n",
    "for i in range(2, nfolds):\n",
    "    a += np.array(yfull_test[i])\n",
    "a /= nfolds\n",
    "test_res = a.tolist()"
   ]
  },
  {
   "cell_type": "code",
   "execution_count": 26,
   "metadata": {},
   "outputs": [
    {
     "data": {
      "text/plain": [
       "array([[  2.22833990e-03,   4.78135049e-02,   2.09011501e-04, ...,\n",
       "          6.67924003e-04,   4.85792100e-01,   2.07609963e-04],\n",
       "       [  8.50054610e-11,   1.15460819e-09,   1.71136355e-10, ...,\n",
       "          4.33788552e-12,   1.99999940e+00,   1.90595498e-10],\n",
       "       [  2.79620799e-05,   1.96833837e+00,   5.17505796e-05, ...,\n",
       "          5.32838249e-06,   1.70546882e-02,   4.00699137e-05],\n",
       "       ..., \n",
       "       [  5.61813067e-04,   5.16847540e-05,   8.31650337e-04, ...,\n",
       "          1.88680686e-04,   1.85501520e-02,   4.24478529e-03],\n",
       "       [  5.08225756e-04,   1.42251272e-04,   3.83974429e-06, ...,\n",
       "          1.17066178e-04,   5.41020278e-03,   2.82682275e-04],\n",
       "       [  4.64315177e-04,   1.00948347e-03,   4.55778529e-04, ...,\n",
       "          8.11526843e-05,   2.68692081e-03,   4.17163782e-03]], dtype=float32)"
      ]
     },
     "execution_count": 26,
     "metadata": {},
     "output_type": "execute_result"
    }
   ],
   "source": [
    "np.array(yfull_test[1]) + np.array(yfull_test[7])"
   ]
  },
  {
   "cell_type": "code",
   "execution_count": null,
   "metadata": {
    "collapsed": true
   },
   "outputs": [],
   "source": []
  },
  {
   "cell_type": "code",
   "execution_count": 13,
   "metadata": {
    "collapsed": true,
    "scrolled": true
   },
   "outputs": [],
   "source": [
    "info_string = 'loss_' + info_string \\\n",
    "                + '_folds_' + str(nfolds)"
   ]
  },
  {
   "cell_type": "code",
   "execution_count": 29,
   "metadata": {
    "collapsed": true,
    "scrolled": true
   },
   "outputs": [],
   "source": [
    "params = {\"0\":\"Automobile\",\"1\":\"Comics_and_Cartoons\",\"2\":\"Famous_Personalities\",\"3\":\"Festivals_and_Occasions\",\n",
    "              \"4\":\"Graffiti_and_Illustrations\",\"5\":\"Movies_and_TV_shows\",\"6\":\"Music\",\"7\":\"Nature\",\"8\":\"No_Theme\",\n",
    "              \"9\":\"Patterns_and_Ethnic\",\"10\":\"Signs_and_Symbols\",\"11\":\"Spiritual\",\"12\":\"Sports\",\"13\":\"Superheroes\",\n",
    "              \"14\":\"Typography\",\"15\":\"Vintage\"}\n",
    "    \n",
    "y = np.array([params[str(i)] for i in np.argmax(test_res, axis=1)])"
   ]
  },
  {
   "cell_type": "code",
   "execution_count": 30,
   "metadata": {
    "collapsed": true,
    "scrolled": true
   },
   "outputs": [],
   "source": [
    "result1 = pd.DataFrame(X_test_id, columns=['id'])\n",
    "result1.loc[:, 'Mobile_Theme'] = pd.Series(y, index=result1.index)\n",
    "now = datetime.datetime.now()\n",
    "sub_file = 'submission_keras_v1' +'_'+info_string+  '_' + str(now.strftime(\"%Y-%m-%d-%H-%M\")) + '.csv'\n",
    "result1.to_csv(sub_file, index=False)"
   ]
  },
  {
   "cell_type": "code",
   "execution_count": null,
   "metadata": {
    "collapsed": true,
    "scrolled": true
   },
   "outputs": [],
   "source": []
  }
 ],
 "metadata": {
  "kernelspec": {
   "display_name": "Python [default]",
   "language": "python",
   "name": "python2"
  },
  "language_info": {
   "codemirror_mode": {
    "name": "ipython",
    "version": 2
   },
   "file_extension": ".py",
   "mimetype": "text/x-python",
   "name": "python",
   "nbconvert_exporter": "python",
   "pygments_lexer": "ipython2",
   "version": "2.7.13"
  }
 },
 "nbformat": 4,
 "nbformat_minor": 2
}
