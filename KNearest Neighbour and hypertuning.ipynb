{
 "cells": [
  {
   "cell_type": "code",
   "execution_count": 11,
   "metadata": {
    "collapsed": true
   },
   "outputs": [],
   "source": [
    "import numpy as np\n",
    "np.random.seed(2016)\n",
    "\n",
    "import os\n",
    "import glob\n",
    "import cv2\n",
    "import datetime\n",
    "import pandas as pd\n",
    "import time\n",
    "import warnings\n",
    "warnings.filterwarnings(\"ignore\")\n",
    "\n",
    "from pandas import DataFrame\n",
    "from sklearn.neighbors import KNeighborsClassifier"
   ]
  },
  {
   "cell_type": "code",
   "execution_count": 12,
   "metadata": {
    "collapsed": true
   },
   "outputs": [],
   "source": [
    "def get_im_cv2(path):\n",
    "    img = cv2.imread(path)\n",
    "    height, width, channels = img.shape\n",
    "    #img = cv2.normalize(img, alpha=0, beta=1, norm_type=cv2.NORM_MINMAX, dtype=cv2.CV_32F)\n",
    "    img = cv2.resize(img, (32, 32))\n",
    "    \n",
    "    return img"
   ]
  },
  {
   "cell_type": "code",
   "execution_count": 13,
   "metadata": {
    "collapsed": true
   },
   "outputs": [],
   "source": [
    "def load_train():\n",
    "    X_train = []\n",
    "    X_train_id = []\n",
    "    y_train = []\n",
    "    start_time = time.time()\n",
    "\n",
    "    print('Read train images')\n",
    "    folders = ['Automobile',\n",
    "               'Comics_and_Cartoons',\n",
    "               'Famous_Personalities',\n",
    "               'Festivals_and_Occasions',\n",
    "               'Graffiti_and_Illustrations',\n",
    "               'Movies_and_TV_shows',\n",
    "               'Music',\n",
    "               'Nature',\n",
    "               'No_Theme',\n",
    "               'Patterns_and_Ethnic',\n",
    "               'Signs_and_Symbols',\n",
    "               'Spiritual',\n",
    "               'Sports',\n",
    "               'Superheroes',\n",
    "               'Typography',\n",
    "               'Vintage'\n",
    "              ]\n",
    "    for fld in folders:\n",
    "        index = folders.index(fld)\n",
    "        print('Load folder {} (Index: {})'.format(fld, index))\n",
    "        path = os.path.join('D:\\Misc\\CrowdAnalytix\\Identifying Themes from Mobile Case Images\\Data Raw\\Train', fld, '*.jpg')\n",
    "        files = glob.glob(path)\n",
    "        for i in range(len(files)):\n",
    "            flbase = os.path.basename(files[i])\n",
    "            img = get_im_cv2(files[i])\n",
    "            X_train.append(img)\n",
    "            X_train_id.append(flbase)\n",
    "            y_train.append(index)   #what does this do?\n",
    "    print len(X_train)\n",
    "    print('Read train data time: {} seconds'.format(round(time.time() - start_time, 2)))\n",
    "    return X_train, y_train, X_train_id"
   ]
  },
  {
   "cell_type": "code",
   "execution_count": 14,
   "metadata": {
    "collapsed": true
   },
   "outputs": [],
   "source": [
    "def load_test():\n",
    "    path = os.path.join('D:\\Misc\\CrowdAnalytix\\Identifying Themes from Mobile Case Images\\Data Raw\\Test', '*.jpg')\n",
    "    files = sorted(glob.glob(path))\n",
    "\n",
    "    X_test = []\n",
    "    X_test_id = []\n",
    "    for fl in files:\n",
    "        flbase = os.path.basename(fl)\n",
    "        img = get_im_cv2(fl)\n",
    "        X_test.append(img)\n",
    "        X_test_id.append(flbase)\n",
    "\n",
    "    return X_test, X_test_id"
   ]
  },
  {
   "cell_type": "code",
   "execution_count": 16,
   "metadata": {},
   "outputs": [
    {
     "name": "stdout",
     "output_type": "stream",
     "text": [
      "Read train images\n",
      "Load folder Automobile (Index: 0)\n",
      "Load folder Comics_and_Cartoons (Index: 1)\n",
      "Load folder Famous_Personalities (Index: 2)\n",
      "Load folder Festivals_and_Occasions (Index: 3)\n",
      "Load folder Graffiti_and_Illustrations (Index: 4)\n",
      "Load folder Movies_and_TV_shows (Index: 5)\n",
      "Load folder Music (Index: 6)\n",
      "Load folder Nature (Index: 7)\n",
      "Load folder No_Theme (Index: 8)\n",
      "Load folder Patterns_and_Ethnic (Index: 9)\n",
      "Load folder Signs_and_Symbols (Index: 10)\n",
      "Load folder Spiritual (Index: 11)\n",
      "Load folder Sports (Index: 12)\n",
      "Load folder Superheroes (Index: 13)\n",
      "Load folder Typography (Index: 14)\n",
      "Load folder Vintage (Index: 15)\n",
      "4592\n",
      "Read train data time: 64.55 seconds\n"
     ]
    }
   ],
   "source": [
    "Xtrall, Ytrall, Itrall = load_train()\n",
    "X_test, X_test_id = load_test()"
   ]
  },
  {
   "cell_type": "code",
   "execution_count": 17,
   "metadata": {
    "collapsed": true
   },
   "outputs": [],
   "source": [
    "# flatten out all images to be one-dimensional\n",
    "Xtrall = np.array(Xtrall, dtype=np.uint8)\n",
    "Ytrall = np.array(Ytrall, dtype=np.uint8)\n",
    "\n",
    "Xtrall = Xtrall.astype('float32')\n",
    "Xtrall = Xtrall / 255\n",
    "\n",
    "msk = np.random.rand(len(Xtr)) < 0.8\n",
    "Xval = Xtrall[~msk]\n",
    "Yval = Ytrall[~msk]\n",
    "Ytr = Ytrall[msk]\n",
    "Xtr = Xtrall[msk]\n",
    "\n",
    "Xtr_rows = Xtr.reshape(Xtr.shape[0], 32 * 32 * 3) \n",
    "Xval_rows = Xval.reshape(Xval.shape[0], 32 * 32 * 3) \n",
    "\n",
    "X_test = np.array(X_test, dtype=np.uint8)\n",
    "\n",
    "X_test = X_test.astype('float32')\n",
    "X_test = X_test / 255\n",
    "X_test_rows = X_test.reshape(X_test.shape[0], 32 * 32 * 3) "
   ]
  },
  {
   "cell_type": "code",
   "execution_count": 18,
   "metadata": {},
   "outputs": [
    {
     "name": "stdout",
     "output_type": "stream",
     "text": [
      "accuracy: 0.523272\n",
      "accuracy: 0.521862\n",
      "accuracy: 0.526093\n",
      "accuracy: 0.531735\n",
      "accuracy: 0.511989\n",
      "accuracy: 0.478138\n",
      "accuracy: 0.451340\n"
     ]
    }
   ],
   "source": [
    "# find hyperparameters that work best on the validation set\n",
    "validation_accuracies = []\n",
    "for k in [1, 3, 5, 10, 20, 50, 100]:\n",
    "  \n",
    "  # use a particular value of k and evaluation on validation data\n",
    "  nn = KNeighborsClassifier(n_neighbors=k)\n",
    "  nn.fit(Xtr_rows, Ytr)\n",
    "  # here we assume a modified NearestNeighbor class that can take a k as input\n",
    "  Yval_predict = nn.predict(Xval_rows)\n",
    "  acc = np.mean(Yval_predict == Yval)\n",
    "  print 'accuracy: %f' % (acc,)\n",
    "\n",
    "  # keep track of what works on the validation set\n",
    "  validation_accuracies.append((k, acc))"
   ]
  },
  {
   "cell_type": "code",
   "execution_count": 20,
   "metadata": {},
   "outputs": [
    {
     "data": {
      "text/plain": [
       "[(1, 0.52327221438645977),\n",
       " (3, 0.52186177715091675),\n",
       " (5, 0.5260930888575458),\n",
       " (10, 0.53173483779971786),\n",
       " (20, 0.51198871650211564),\n",
       " (50, 0.47813822284908319),\n",
       " (100, 0.45133991537376589)]"
      ]
     },
     "execution_count": 20,
     "metadata": {},
     "output_type": "execute_result"
    }
   ],
   "source": [
    "validation_accuracies"
   ]
  },
  {
   "cell_type": "code",
   "execution_count": 21,
   "metadata": {
    "collapsed": true
   },
   "outputs": [],
   "source": [
    "nn = KNeighborsClassifier(n_neighbors=10)\n",
    "nn.fit(Xtr_rows, Ytr)\n",
    "\n",
    "X_test_predict = nn.predict(X_test_rows)\n",
    "DataFrame(X_test_id,X_test_predict).to_csv(\"nn_submit_KnnL2.csv\")"
   ]
  },
  {
   "cell_type": "code",
   "execution_count": null,
   "metadata": {
    "collapsed": true
   },
   "outputs": [],
   "source": []
  }
 ],
 "metadata": {
  "kernelspec": {
   "display_name": "Python [default]",
   "language": "python",
   "name": "python2"
  },
  "language_info": {
   "codemirror_mode": {
    "name": "ipython",
    "version": 2
   },
   "file_extension": ".py",
   "mimetype": "text/x-python",
   "name": "python",
   "nbconvert_exporter": "python",
   "pygments_lexer": "ipython2",
   "version": "2.7.13"
  }
 },
 "nbformat": 4,
 "nbformat_minor": 2
}
