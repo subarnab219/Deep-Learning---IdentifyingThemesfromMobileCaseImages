{
 "cells": [
  {
   "cell_type": "code",
   "execution_count": 1,
   "metadata": {},
   "outputs": [
    {
     "name": "stderr",
     "output_type": "stream",
     "text": [
      "Using Theano backend.\n",
      "C:\\Users\\sran12\\AppData\\Local\\Continuum\\Anaconda2\\lib\\site-packages\\sklearn\\cross_validation.py:44: DeprecationWarning: This module was deprecated in version 0.18 in favor of the model_selection module into which all the refactored classes and functions are moved. Also note that the interface of the new CV iterators are different from that of this module. This module will be removed in 0.20.\n",
      "  \"This module will be removed in 0.20.\", DeprecationWarning)\n"
     ]
    }
   ],
   "source": [
    "import numpy as np\n",
    "np.random.seed(2016)\n",
    "\n",
    "import os\n",
    "import glob\n",
    "import cv2\n",
    "import datetime\n",
    "import pandas as pd\n",
    "import time\n",
    "import warnings\n",
    "%matplotlib inline \n",
    "warnings.filterwarnings(\"ignore\")\n",
    "\n",
    "from keras.layers.core import Dense, Dropout, Flatten\n",
    "from keras.layers.convolutional import Convolution2D, MaxPooling2D, ZeroPadding2D\n",
    "from keras.models import Sequential\n",
    "from keras.layers import Dense\n",
    "from keras.utils import np_utils\n",
    "from keras.models import Sequential\n",
    "from keras.layers import Dense, Dropout, Activation, Flatten\n",
    "from keras.layers import Conv2D, MaxPooling2D\n",
    "from keras.callbacks import EarlyStopping\n",
    "from sklearn.metrics import log_loss\n",
    "from sklearn.cross_validation import KFold\n",
    "from keras.models import Sequential\n",
    "\n"
   ]
  },
  {
   "cell_type": "code",
   "execution_count": 2,
   "metadata": {
    "collapsed": true
   },
   "outputs": [],
   "source": [
    "def get_im_cv2(path):\n",
    "    img = cv2.imread(path)\n",
    "    height, width, channels = img.shape\n",
    "    img = cv2.resize(img, (64, 64))\n",
    "    return img"
   ]
  },
  {
   "cell_type": "code",
   "execution_count": 3,
   "metadata": {
    "collapsed": true
   },
   "outputs": [],
   "source": [
    "def load_train():\n",
    "    X_train = []\n",
    "    X_train_id = []\n",
    "    y_train = []\n",
    "    start_time = time.time()\n",
    "\n",
    "    print('Read train images')\n",
    "    folders = ['Automobile',\n",
    "               'Comics_and_Cartoons',\n",
    "               'Famous_Personalities',\n",
    "               'Festivals_and_Occasions',\n",
    "               'Graffiti_and_Illustrations',\n",
    "               'Movies_and_TV_shows',\n",
    "               'Music',\n",
    "               'Nature',\n",
    "               'No_Theme',\n",
    "               'Patterns_and_Ethnic',\n",
    "               'Signs_and_Symbols',\n",
    "               'Spiritual',\n",
    "               'Sports',\n",
    "               'Superheroes',\n",
    "               'Typography',\n",
    "               'Vintage'\n",
    "              ]\n",
    "    for fld in folders:\n",
    "        index = folders.index(fld)\n",
    "        print('Load folder {} (Index: {})'.format(fld, index))\n",
    "        path = os.path.join('D:\\Misc\\CrowdAnalytix\\Identifying Themes from Mobile Case Images\\Data Raw\\Train', fld, '*.jpg')\n",
    "        files = glob.glob(path)\n",
    "        for i in range(len(files)):\n",
    "            flbase = os.path.basename(files[i])\n",
    "            img = get_im_cv2(files[i])\n",
    "            X_train.append(img)\n",
    "            X_train_id.append(flbase)\n",
    "            y_train.append(index) \n",
    "    print len(X_train)\n",
    "    print('Read train data time: {} seconds'.format(round(time.time() - start_time, 2)))\n",
    "    return X_train, y_train, X_train_id"
   ]
  },
  {
   "cell_type": "code",
   "execution_count": 4,
   "metadata": {
    "collapsed": true
   },
   "outputs": [],
   "source": [
    "def load_test():\n",
    "    path = os.path.join('D:\\Misc\\CrowdAnalytix\\Identifying Themes from Mobile Case Images\\Data Raw\\Test', '*.jpg')\n",
    "    files = sorted(glob.glob(path))\n",
    "\n",
    "    X_test = []\n",
    "    X_test_id = []\n",
    "    for fl in files:\n",
    "        flbase = os.path.basename(fl)\n",
    "        img = get_im_cv2(fl)\n",
    "        X_test.append(img)\n",
    "        X_test_id.append(flbase)\n",
    "\n",
    "    return X_test, X_test_id"
   ]
  },
  {
   "cell_type": "code",
   "execution_count": 5,
   "metadata": {},
   "outputs": [
    {
     "name": "stdout",
     "output_type": "stream",
     "text": [
      "Read train images\n",
      "Load folder Automobile (Index: 0)\n",
      "Load folder Comics_and_Cartoons (Index: 1)\n",
      "Load folder Famous_Personalities (Index: 2)\n",
      "Load folder Festivals_and_Occasions (Index: 3)\n",
      "Load folder Graffiti_and_Illustrations (Index: 4)\n",
      "Load folder Movies_and_TV_shows (Index: 5)\n",
      "Load folder Music (Index: 6)\n",
      "Load folder Nature (Index: 7)\n",
      "Load folder No_Theme (Index: 8)\n",
      "Load folder Patterns_and_Ethnic (Index: 9)\n",
      "Load folder Signs_and_Symbols (Index: 10)\n",
      "Load folder Spiritual (Index: 11)\n",
      "Load folder Sports (Index: 12)\n",
      "Load folder Superheroes (Index: 13)\n",
      "Load folder Typography (Index: 14)\n",
      "Load folder Vintage (Index: 15)\n",
      "4457\n",
      "Read train data time: 297.63 seconds\n"
     ]
    }
   ],
   "source": [
    "Xtrall, Ytrall, Itrall = load_train()\n",
    "X_test, X_test_id = load_test()"
   ]
  },
  {
   "cell_type": "code",
   "execution_count": 6,
   "metadata": {
    "collapsed": true
   },
   "outputs": [],
   "source": [
    "# flatten out all images to be one-dimensional\n",
    "Xtrall = np.array(Xtrall, dtype=np.uint8)\n",
    "Ytrall = np.array(Ytrall, dtype=np.uint8)\n",
    "\n",
    "Xtrall = Xtrall.astype('float32')\n",
    "Xtrall = Xtrall / 255\n",
    "Xtrall = Xtrall.transpose((0, 3, 1, 2))\n",
    "\n",
    "# msk = np.random.rand(len(Xtrall)) < 0.8\n",
    "# Xval = Xtrall[~msk]\n",
    "# Yval = Ytrall[~msk]\n",
    "# Ytr = Ytrall[msk]\n",
    "# Xtr = Xtrall[msk]\n",
    "\n",
    "X_test = np.array(X_test, dtype=np.uint8)\n",
    "\n",
    "X_test = X_test.astype('float32')\n",
    "X_test = X_test / 255\n",
    "X_test = X_test.transpose((0, 3, 1, 2))\n",
    "\n",
    "Ytrall = np_utils.to_categorical(Ytrall, 16)"
   ]
  },
  {
   "cell_type": "code",
   "execution_count": 8,
   "metadata": {
    "collapsed": true
   },
   "outputs": [],
   "source": [
    "batch_size=32\n",
    "nb_classes=len(Ytrall)\n",
    "nb_epoch=30\n",
    "nb_filters=64\n",
    "nb_pool=1\n",
    "nb_conv=3"
   ]
  },
  {
   "cell_type": "code",
   "execution_count": 9,
   "metadata": {
    "collapsed": true
   },
   "outputs": [],
   "source": [
    "model= Sequential()\n",
    "model.add(ZeroPadding2D((1, 1), input_shape=Xtrall.shape[1:]))\n",
    "model.add(Convolution2D(nb_filters,nb_conv,nb_conv, subsample=(1, 1),activation='relu'))\n",
    "model.add(Activation('relu'))\n",
    "model.add(Convolution2D(nb_filters/2,nb_conv,nb_conv, subsample=(1, 1),activation='relu'))\n",
    "model.add(Activation('relu'))\n",
    "model.add(Convolution2D(nb_filters/4,nb_conv,nb_conv, subsample=(1, 1),activation='relu'))\n",
    "model.add(Activation('relu'))\n",
    "model.add(Dropout(0.5));\n",
    "model.add(Flatten());\n",
    "model.add(Dense(64));\n",
    "model.add(Dropout(0.5));\n",
    "model.add(Dense(16));\n",
    "model.add(Activation('softmax'));\n",
    "model.compile(loss='categorical_crossentropy',optimizer='adadelta',metrics=['accuracy'])\n"
   ]
  },
  {
   "cell_type": "code",
   "execution_count": 10,
   "metadata": {
    "scrolled": true
   },
   "outputs": [
    {
     "name": "stdout",
     "output_type": "stream",
     "text": [
      "Start KFold number 1 from 10\n",
      "('Split train: ', 4011, 4011)\n",
      "('Split valid: ', 446, 446)\n",
      "Train on 4011 samples, validate on 446 samples\n",
      "Epoch 1/30\n",
      "113s - loss: 1.9693 - acc: 0.4380 - val_loss: 1.6163 - val_acc: 0.5336\n",
      "Epoch 2/30\n",
      "110s - loss: 1.5356 - acc: 0.5644 - val_loss: 1.5472 - val_acc: 0.5359\n",
      "Epoch 3/30\n",
      "108s - loss: 1.3223 - acc: 0.6280 - val_loss: 1.4477 - val_acc: 0.5807\n",
      "Epoch 4/30\n",
      "111s - loss: 1.1247 - acc: 0.6794 - val_loss: 1.3530 - val_acc: 0.6256\n",
      "Epoch 5/30\n",
      "115s - loss: 0.9514 - acc: 0.7195 - val_loss: 1.3722 - val_acc: 0.6368\n",
      "Epoch 6/30\n",
      "112s - loss: 0.7892 - acc: 0.7629 - val_loss: 1.5259 - val_acc: 0.6256\n",
      "Epoch 7/30\n",
      "112s - loss: 0.6651 - acc: 0.8040 - val_loss: 1.3448 - val_acc: 0.6368\n",
      "Epoch 8/30\n",
      "111s - loss: 0.5437 - acc: 0.8414 - val_loss: 1.3985 - val_acc: 0.6502\n",
      "Epoch 9/30\n",
      "120s - loss: 0.4848 - acc: 0.8489 - val_loss: 1.4476 - val_acc: 0.6749\n",
      "Epoch 10/30\n",
      "117s - loss: 0.4096 - acc: 0.8796 - val_loss: 1.4329 - val_acc: 0.6278\n",
      "Epoch 11/30\n",
      "126s - loss: 0.3443 - acc: 0.8970 - val_loss: 1.4070 - val_acc: 0.6749\n",
      "('Score log_loss: ', 1.4183527081152802)\n",
      "Start KFold number 2 from 10\n",
      "('Split train: ', 4011, 4011)\n",
      "('Split valid: ', 446, 446)\n",
      "Train on 4011 samples, validate on 446 samples\n",
      "Epoch 1/30\n",
      "117s - loss: 0.4566 - acc: 0.8806 - val_loss: 0.1958 - val_acc: 0.9439\n",
      "Epoch 2/30\n",
      "118s - loss: 0.3768 - acc: 0.9008 - val_loss: 0.2123 - val_acc: 0.9462\n",
      "Epoch 3/30\n",
      "121s - loss: 0.3235 - acc: 0.9050 - val_loss: 0.1987 - val_acc: 0.9462\n",
      "Epoch 4/30\n",
      "116s - loss: 0.2931 - acc: 0.9182 - val_loss: 0.2451 - val_acc: 0.9350\n",
      "Epoch 5/30\n",
      "121s - loss: 0.2551 - acc: 0.9302 - val_loss: 0.2442 - val_acc: 0.9395\n",
      "('Score log_loss: ', 0.24419304842465747)\n",
      "Start KFold number 3 from 10\n",
      "('Split train: ', 4011, 4011)\n",
      "('Split valid: ', 446, 446)\n",
      "Train on 4011 samples, validate on 446 samples\n",
      "Epoch 1/30\n",
      "119s - loss: 0.2500 - acc: 0.9257 - val_loss: 0.1199 - val_acc: 0.9709\n",
      "Epoch 2/30\n",
      "111s - loss: 0.2058 - acc: 0.9417 - val_loss: 0.1383 - val_acc: 0.9619\n",
      "Epoch 3/30\n",
      "212s - loss: 0.1924 - acc: 0.9444 - val_loss: 0.1555 - val_acc: 0.9619\n",
      "Epoch 4/30\n",
      "224s - loss: 0.1739 - acc: 0.9531 - val_loss: 0.1863 - val_acc: 0.9619\n",
      "Epoch 5/30\n",
      "211s - loss: 0.1653 - acc: 0.9584 - val_loss: 0.1857 - val_acc: 0.9596\n",
      "('Score log_loss: ', 0.18569687759867731)\n",
      "Start KFold number 4 from 10\n",
      "('Split train: ', 4011, 4011)\n",
      "('Split valid: ', 446, 446)\n",
      "Train on 4011 samples, validate on 446 samples\n",
      "Epoch 1/30\n",
      "214s - loss: 0.1624 - acc: 0.9506 - val_loss: 0.0499 - val_acc: 0.9821\n",
      "Epoch 2/30\n",
      "115s - loss: 0.1584 - acc: 0.9564 - val_loss: 0.0597 - val_acc: 0.9843\n",
      "Epoch 3/30\n",
      "114s - loss: 0.1383 - acc: 0.9594 - val_loss: 0.0654 - val_acc: 0.9798\n",
      "Epoch 4/30\n",
      "111s - loss: 0.1339 - acc: 0.9643 - val_loss: 0.0601 - val_acc: 0.9776\n",
      "Epoch 5/30\n",
      "113s - loss: 0.1179 - acc: 0.9673 - val_loss: 0.0819 - val_acc: 0.9776\n",
      "('Score log_loss: ', 0.081897629299357219)\n",
      "Start KFold number 5 from 10\n",
      "('Split train: ', 4011, 4011)\n",
      "('Split valid: ', 446, 446)\n",
      "Train on 4011 samples, validate on 446 samples\n",
      "Epoch 1/30\n",
      "112s - loss: 0.1240 - acc: 0.9641 - val_loss: 0.0357 - val_acc: 0.9888\n",
      "Epoch 2/30\n",
      "112s - loss: 0.1136 - acc: 0.9678 - val_loss: 0.0609 - val_acc: 0.9821\n",
      "Epoch 3/30\n",
      "113s - loss: 0.1078 - acc: 0.9721 - val_loss: 0.0490 - val_acc: 0.9865\n",
      "Epoch 4/30\n",
      "111s - loss: 0.1078 - acc: 0.9723 - val_loss: 0.0428 - val_acc: 0.9843\n",
      "Epoch 5/30\n",
      "112s - loss: 0.1029 - acc: 0.9698 - val_loss: 0.0531 - val_acc: 0.9865\n",
      "('Score log_loss: ', 0.05308523251697065)\n",
      "Start KFold number 6 from 10\n",
      "('Split train: ', 4011, 4011)\n",
      "('Split valid: ', 446, 446)\n",
      "Train on 4011 samples, validate on 446 samples\n",
      "Epoch 1/30\n",
      "112s - loss: 0.1057 - acc: 0.9731 - val_loss: 0.0648 - val_acc: 0.9843\n",
      "Epoch 2/30\n",
      "112s - loss: 0.0934 - acc: 0.9761 - val_loss: 0.1046 - val_acc: 0.9798\n",
      "Epoch 3/30\n",
      "114s - loss: 0.0949 - acc: 0.9766 - val_loss: 0.0894 - val_acc: 0.9798\n",
      "Epoch 4/30\n",
      "115s - loss: 0.0877 - acc: 0.9748 - val_loss: 0.0998 - val_acc: 0.9776\n",
      "Epoch 5/30\n",
      "115s - loss: 0.0844 - acc: 0.9781 - val_loss: 0.1047 - val_acc: 0.9798\n",
      "('Score log_loss: ', 0.10472958774459533)\n",
      "Start KFold number 7 from 10\n",
      "('Split train: ', 4011, 4011)\n",
      "('Split valid: ', 446, 446)\n",
      "Train on 4011 samples, validate on 446 samples\n",
      "Epoch 1/30\n",
      "115s - loss: 0.1006 - acc: 0.9748 - val_loss: 0.0437 - val_acc: 0.9888\n",
      "Epoch 2/30\n",
      "115s - loss: 0.1008 - acc: 0.9761 - val_loss: 0.0530 - val_acc: 0.9910\n",
      "Epoch 3/30\n",
      "122s - loss: 0.0858 - acc: 0.9758 - val_loss: 0.0472 - val_acc: 0.9865\n",
      "Epoch 4/30\n",
      "116s - loss: 0.0888 - acc: 0.9771 - val_loss: 0.0535 - val_acc: 0.9865\n",
      "Epoch 5/30\n",
      "115s - loss: 0.0832 - acc: 0.9768 - val_loss: 0.0799 - val_acc: 0.9753\n",
      "('Score log_loss: ', 0.079896877756814144)\n",
      "Start KFold number 8 from 10\n",
      "('Split train: ', 4012, 4012)\n",
      "('Split valid: ', 445, 445)\n",
      "Train on 4012 samples, validate on 445 samples\n",
      "Epoch 1/30\n",
      "117s - loss: 0.0846 - acc: 0.9783 - val_loss: 0.0245 - val_acc: 0.9888\n",
      "Epoch 2/30\n",
      "117s - loss: 0.0681 - acc: 0.9813 - val_loss: 0.0391 - val_acc: 0.9888\n",
      "Epoch 3/30\n",
      "115s - loss: 0.0687 - acc: 0.9813 - val_loss: 0.0546 - val_acc: 0.9888\n",
      "Epoch 4/30\n",
      "116s - loss: 0.0713 - acc: 0.9818 - val_loss: 0.0646 - val_acc: 0.9910\n",
      "Epoch 5/30\n",
      "117s - loss: 0.0692 - acc: 0.9813 - val_loss: 0.0740 - val_acc: 0.9820\n",
      "('Score log_loss: ', 0.074021938517642938)\n",
      "Start KFold number 9 from 10\n",
      "('Split train: ', 4012, 4012)\n",
      "('Split valid: ', 445, 445)\n",
      "Train on 4012 samples, validate on 445 samples\n",
      "Epoch 1/30\n",
      "117s - loss: 0.0814 - acc: 0.9833 - val_loss: 0.0301 - val_acc: 0.9843\n",
      "Epoch 2/30\n",
      "118s - loss: 0.0729 - acc: 0.9840 - val_loss: 0.0416 - val_acc: 0.9820\n",
      "Epoch 3/30\n",
      "118s - loss: 0.0595 - acc: 0.9840 - val_loss: 0.0712 - val_acc: 0.9820\n",
      "Epoch 4/30\n",
      "116s - loss: 0.0712 - acc: 0.9840 - val_loss: 0.0632 - val_acc: 0.9820\n",
      "Epoch 5/30\n",
      "117s - loss: 0.0610 - acc: 0.9848 - val_loss: 0.0715 - val_acc: 0.9798\n",
      "('Score log_loss: ', 0.071480983692758709)\n",
      "Start KFold number 10 from 10\n",
      "('Split train: ', 4012, 4012)\n",
      "('Split valid: ', 445, 445)\n",
      "Train on 4012 samples, validate on 445 samples\n",
      "Epoch 1/30\n",
      "113s - loss: 0.0782 - acc: 0.9821 - val_loss: 0.0386 - val_acc: 0.9843\n",
      "Epoch 2/30\n",
      "115s - loss: 0.0698 - acc: 0.9826 - val_loss: 0.0733 - val_acc: 0.9820\n",
      "Epoch 3/30\n",
      "115s - loss: 0.0720 - acc: 0.9816 - val_loss: 0.0827 - val_acc: 0.9843\n",
      "Epoch 4/30\n",
      "114s - loss: 0.0703 - acc: 0.9850 - val_loss: 0.0904 - val_acc: 0.9820\n",
      "Epoch 5/30\n",
      "113s - loss: 0.0670 - acc: 0.9843 - val_loss: 0.0949 - val_acc: 0.9820\n",
      "('Score log_loss: ', 0.094854639125652424)\n"
     ]
    }
   ],
   "source": [
    "nfolds = 10\n",
    "yfull_train = dict()\n",
    "kf = KFold(len(Itrall), n_folds=10, shuffle=True, random_state=51)\n",
    "num_fold = 0\n",
    "sum_score = 0\n",
    "models = []\n",
    "\n",
    "for mtr,mval in kf:\n",
    "    Xtr = Xtrall[mtr]\n",
    "    Ytr = Ytrall[mtr]\n",
    "    Xval = Xtrall[mval]\n",
    "    Yval = Ytrall[mval]\n",
    "    \n",
    "    num_fold += 1\n",
    "    \n",
    "    print('Start KFold number {} from {}'.format(num_fold, nfolds))\n",
    "    print('Split train: ', len(Xtr), len(Ytr))\n",
    "    print('Split valid: ', len(Xval), len(Yval))\n",
    "    \n",
    "    callbacks = [\n",
    "            EarlyStopping(monitor='val_loss', patience=3, verbose=0),\n",
    "        ]\n",
    "    model.fit(Xtr,Ytr, batch_size=batch_size, nb_epoch=nb_epoch,\n",
    "              shuffle=True, verbose=2, validation_data=(Xval, Yval),\n",
    "              callbacks=callbacks)\n",
    "    predictions_valid = model.predict(Xval.astype('float32'), batch_size=batch_size, verbose=2)\n",
    "    score = log_loss(Yval, predictions_valid)\n",
    "    print('Score log_loss: ', score)\n",
    "    sum_score += score*len(mval)\n",
    "    \n",
    "    # Store valid predictions\n",
    "    for i in range(len(mval)):\n",
    "        yfull_train[mval[i]] = predictions_valid[i]\n",
    "\n",
    "    models.append(model)\n",
    "\n"
   ]
  },
  {
   "cell_type": "code",
   "execution_count": 11,
   "metadata": {},
   "outputs": [
    {
     "name": "stdout",
     "output_type": "stream",
     "text": [
      "('Log_loss train independent avg: ', 0.24092912039579922)\n"
     ]
    }
   ],
   "source": [
    "score = sum_score/len(Xtrall)\n",
    "print(\"Log_loss train independent avg: \", score)\n",
    "\n",
    "info_string = 'loss_' + str(score) + '_folds_' + str(10) + '_ep_' + str(nb_epoch)"
   ]
  },
  {
   "cell_type": "code",
   "execution_count": 11,
   "metadata": {},
   "outputs": [
    {
     "name": "stdout",
     "output_type": "stream",
     "text": [
      "Start KFold number 1 from 10\n",
      "Start KFold number 2 from 10\n",
      "Start KFold number 3 from 10\n",
      "Start KFold number 4 from 10\n",
      "Start KFold number 5 from 10\n",
      "Start KFold number 6 from 10\n",
      "Start KFold number 7 from 10\n",
      "Start KFold number 8 from 10\n",
      "Start KFold number 9 from 10\n",
      "Start KFold number 10 from 10\n"
     ]
    }
   ],
   "source": [
    "batch_size = 32\n",
    "num_fold = 0\n",
    "yfull_test = []\n",
    "test_id = []\n",
    "nfolds = len(models)\n",
    "\n",
    "for i in range(nfolds):\n",
    "    model = models[i]\n",
    "    num_fold += 1\n",
    "    print('Start KFold number {} from {}'.format(num_fold, nfolds))\n",
    "    test_prediction = model.predict(X_test, batch_size=batch_size, verbose=2)\n",
    "    yfull_test.append(test_prediction)\n",
    "    \n"
   ]
  },
  {
   "cell_type": "code",
   "execution_count": 12,
   "metadata": {
    "collapsed": true
   },
   "outputs": [],
   "source": [
    "a = np.array(yfull_test[0])\n",
    "for i in range(1, nfolds):\n",
    "    a += np.array(yfull_test[i])\n",
    "a /= nfolds\n",
    "test_res = a.tolist()"
   ]
  },
  {
   "cell_type": "code",
   "execution_count": 13,
   "metadata": {
    "collapsed": true
   },
   "outputs": [],
   "source": [
    "info_string = 'loss_' + info_string \\\n",
    "                + '_folds_' + str(nfolds)"
   ]
  },
  {
   "cell_type": "code",
   "execution_count": 14,
   "metadata": {
    "collapsed": true
   },
   "outputs": [],
   "source": [
    "params = {\"0\":\"Automobile\",\"1\":\"Comics_and_Cartoons\",\"2\":\"Famous_Personalities\",\"3\":\"Festivals_and_Occasions\",\n",
    "              \"4\":\"Graffiti_and_Illustrations\",\"5\":\"Movies_and_TV_shows\",\"6\":\"Music\",\"7\":\"Nature\",\"8\":\"No_Theme\",\n",
    "              \"9\":\"Patterns_and_Ethnic\",\"10\":\"Signs_and_Symbols\",\"11\":\"Spiritual\",\"12\":\"Sports\",\"13\":\"Superheroes\",\n",
    "              \"14\":\"Typography\",\"15\":\"Vintage\"}\n",
    "    \n",
    "y = np.array([params[str(i)] for i in np.argmax(test_res, axis=1)])"
   ]
  },
  {
   "cell_type": "code",
   "execution_count": 15,
   "metadata": {
    "collapsed": true
   },
   "outputs": [],
   "source": [
    "result1 = pd.DataFrame(X_test_id, columns=['id'])\n",
    "result1.loc[:, 'Mobile_Theme'] = pd.Series(y, index=result1.index)\n",
    "now = datetime.datetime.now()\n",
    "sub_file = 'submission_keras_v4' +'_'+info_string+  '_' + str(now.strftime(\"%Y-%m-%d-%H-%M\")) + '.csv'\n",
    "result1.to_csv(sub_file, index=False)"
   ]
  },
  {
   "cell_type": "code",
   "execution_count": null,
   "metadata": {
    "collapsed": true
   },
   "outputs": [],
   "source": []
  }
 ],
 "metadata": {
  "kernelspec": {
   "display_name": "Python [default]",
   "language": "python",
   "name": "python2"
  },
  "language_info": {
   "codemirror_mode": {
    "name": "ipython",
    "version": 2
   },
   "file_extension": ".py",
   "mimetype": "text/x-python",
   "name": "python",
   "nbconvert_exporter": "python",
   "pygments_lexer": "ipython2",
   "version": "2.7.13"
  }
 },
 "nbformat": 4,
 "nbformat_minor": 2
}
